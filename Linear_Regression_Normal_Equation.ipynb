{
 "cells": [
  {
   "cell_type": "markdown",
   "metadata": {},
   "source": [
    "# Linear Regression using normal method (one shot)"
   ]
  },
  {
   "cell_type": "code",
   "execution_count": 1,
   "metadata": {},
   "outputs": [],
   "source": [
    "import matplotlib.pyplot as plt\n",
    "import numpy as np"
   ]
  },
  {
   "cell_type": "code",
   "execution_count": 13,
   "metadata": {},
   "outputs": [
    {
     "name": "stdout",
     "output_type": "stream",
     "text": [
      "Loading Data...\n",
      "First 10 examples from the dataset: \n",
      "x = [2104    3], y = 399900\n",
      "x = [1600    3], y = 329900\n",
      "x = [2400    3], y = 369000\n",
      "x = [1416    2], y = 232000\n",
      "x = [3000    4], y = 539900\n",
      "x = [1985    4], y = 299900\n",
      "x = [1534    3], y = 314900\n",
      "x = [1427    3], y = 198999\n",
      "x = [1380    3], y = 212000\n",
      "x = [1494    3], y = 242500\n",
      "Normalizing Features ...\n",
      "Running gradient descent ...\n",
      "Theta computed from gradient descent : \n",
      "[340410.91897274 110308.11337059  -6326.5381075 ]\n",
      "Predicted price of a 1650 sq-ft, 3 br house (using gradient descent) : 293149.994\n"
     ]
    },
    {
     "data": {
      "image/png": "[encoded data removed]",
      "text/plain": [
       "<Figure size 432x288 with 1 Axes>"
      ]
     },
     "metadata": {
      "needs_background": "light"
     },
     "output_type": "display_data"
    }
   ],
   "source": [
    "# Data Loader\n",
    "plt.ion()\n",
    "print('Loading Data...')\n",
    "data = np.loadtxt('ex1data2.txt', delimiter=',', dtype=np.int64)\n",
    "X = data[:, 0:2]\n",
    "y = data[:, 2]\n",
    "m = y.size\n",
    "\n",
    "# Print out some data points\n",
    "print('First 10 examples from the dataset: ')\n",
    "for i in range(0, 10):\n",
    "    print('x = {}, y = {}'.format(X[i], y[i]))\n",
    "\n",
    "print('Normalizing Features ...')\n",
    "\n",
    "X, mu, sigma = feature_normalize(X)\n",
    "X = np.c_[np.ones(m), X]  # Add a column of ones to X\n",
    "\n",
    "print('Running gradient descent ...')\n",
    "\n",
    "# Choose some alpha value\n",
    "alpha = 0.03\n",
    "num_iters = 400\n",
    "\n",
    "# Init theta and Run Gradient Descent\n",
    "theta = np.zeros(3)\n",
    "theta, J_history = gradient_descent_multi(X, y, theta, alpha, num_iters)\n",
    "\n",
    "# Plot the convergence graph\n",
    "plt.figure()\n",
    "plt.plot(np.arange(J_history.size), J_history)\n",
    "plt.xlabel('Number of iterations')\n",
    "plt.ylabel('Cost J')\n",
    "\n",
    "# Display gradient descent's result\n",
    "print('Theta computed from gradient descent : \\n{}'.format(theta))\n",
    "\n",
    "# Estimate the price of a 1650 sq-ft, 3 br house\n",
    "# ===================== Your Code Here =====================\n",
    "# Recall that the first column of X is all-ones. Thus, it does\n",
    "# not need to be normalized.\n",
    "price = 0  # You should change this\n",
    "predict = np.array([1650, 3])\n",
    "predict = (predict - mu) / sigma\n",
    "predict = np.r_[(1, predict)]\n",
    "price = np.dot(predict, theta)\n",
    "\n",
    "# ==========================================================\n",
    "\n",
    "print('Predicted price of a 1650 sq-ft, 3 br house (using gradient descent) : {:0.3f}'.format(price))"
   ]
  },
  {
   "cell_type": "code",
   "execution_count": 8,
   "metadata": {},
   "outputs": [],
   "source": [
    "# Normalize Features\n",
    "\n",
    "def feature_normalize(X):\n",
    "    n = X.shape[1]  # the number of features\n",
    "    X_norm = X\n",
    "    mu = np.zeros(n)\n",
    "    sigma = np.zeros(n)\n",
    "    mu = np.mean(X, 0)\n",
    "    sigma = np.std(X, 0, ddof=1)\n",
    "    X_norm = (X - mu) / sigma\n",
    "\n",
    "    return X_norm, mu, sigma"
   ]
  },
  {
   "cell_type": "code",
   "execution_count": 7,
   "metadata": {},
   "outputs": [],
   "source": [
    "# Gradient Descent\n",
    "\n",
    "def gradient_descent_multi(X, y, theta, alpha, num_iters):\n",
    "    m = y.size\n",
    "    J_history = np.zeros(num_iters)\n",
    "\n",
    "    for i in range(0, num_iters):\n",
    "        error = np.dot(X, theta).flatten() - y\n",
    "        theta -= (alpha / m) * np.sum(X * error[:, np.newaxis], 0)\n",
    "\n",
    "        J_history[i] = compute_cost(X, y, theta)\n",
    "\n",
    "    return theta, J_history"
   ]
  },
  {
   "cell_type": "code",
   "execution_count": 14,
   "metadata": {},
   "outputs": [],
   "source": [
    "# Compute Cost\n",
    "\n",
    "def compute_cost(X, y, theta):\n",
    "    # Initialize some useful values\n",
    "    m = y.size\n",
    "    cost = 0\n",
    "    cost = np.sum((np.dot(X, theta) - y) ** 2) / (2 * m)\n",
    "\n",
    "    return cost"
   ]
  },
  {
   "cell_type": "code",
   "execution_count": 16,
   "metadata": {},
   "outputs": [
    {
     "name": "stdout",
     "output_type": "stream",
     "text": [
      "Theta computed from the normal equations : \n",
      "[89597.90954361   139.21067402 -8738.01911255]\n",
      "Predicted price of a 1650 sq-ft, 3 br house (using normal equations) : 293081.464\n"
     ]
    }
   ],
   "source": [
    "# Normal Equation\n",
    "\n",
    "# Load data\n",
    "data = np.loadtxt('ex1data2.txt', delimiter=',', dtype=np.int64)\n",
    "X = data[:, 0:2]\n",
    "y = data[:, 2]\n",
    "m = y.size\n",
    "\n",
    "# Add intercept term to X\n",
    "X = np.c_[np.ones(m), X]\n",
    "\n",
    "theta = normal_eqn(X, y)\n",
    "\n",
    "# Display normal equation's result\n",
    "print('Theta computed from the normal equations : \\n{}'.format(theta))\n",
    "\n",
    "# Estimate the price of a 1650 sq-ft, 3 br house\n",
    "price = 0  # You should change this\n",
    "predict = np.array([1, 1650, 3])\n",
    "price = np.dot(predict, theta)\n",
    "print('Predicted price of a 1650 sq-ft, 3 br house (using normal equations) : {:0.3f}'.format(price))"
   ]
  },
  {
   "cell_type": "code",
   "execution_count": 15,
   "metadata": {},
   "outputs": [],
   "source": [
    "# Normal Equation Solver\n",
    "\n",
    "def normal_eqn(X, y):\n",
    "    theta = np.zeros((X.shape[1], 1))\n",
    "    Xt = np.transpose(X)\n",
    "    theta = np.linalg.pinv(Xt.dot(X)).dot(Xt).dot(y)\n",
    "\n",
    "    return theta"
   ]
  }
 ],
 "metadata": {
  "kernelspec": {
   "display_name": "Python 3",
   "language": "python",
   "name": "python3"
  },
  "language_info": {
   "codemirror_mode": {
    "name": "ipython",
    "version": 3
   },
   "file_extension": ".py",
   "mimetype": "text/x-python",
   "name": "python",
   "nbconvert_exporter": "python",
   "pygments_lexer": "ipython3",
   "version": "3.7.1"
  }
 },
 "nbformat": 4,
 "nbformat_minor": 2
}
